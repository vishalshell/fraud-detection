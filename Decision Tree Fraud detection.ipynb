{
 "cells": [
  {
   "cell_type": "code",
   "execution_count": 1,
   "id": "021ec79a",
   "metadata": {},
   "outputs": [
    {
     "name": "stdout",
     "output_type": "stream",
     "text": [
      "Accuracy: 0.998199462890625\n",
      "Precision: 0.38781575037147104\n",
      "Recall: 0.8130841121495327\n",
      "F1 score: 0.5251509054325956\n",
      "              precision    recall  f1-score   support\n",
      "\n",
      "   Not Fraud       1.00      1.00      1.00    261823\n",
      "       Fraud       0.39      0.81      0.53       321\n",
      "\n",
      "    accuracy                           1.00    262144\n",
      "   macro avg       0.69      0.91      0.76    262144\n",
      "weighted avg       1.00      1.00      1.00    262144\n",
      "\n"
     ]
    }
   ],
   "source": [
    "import pandas as pd\n",
    "from sklearn.model_selection import train_test_split\n",
    "from sklearn.tree import DecisionTreeClassifier\n",
    "from sklearn.preprocessing import LabelEncoder\n",
    "from sklearn.metrics import accuracy_score, precision_score, recall_score, f1_score, classification_report\n",
    "from imblearn.over_sampling import SMOTE\n",
    "\n",
    "# Load the dataset\n",
    "df = pd.read_csv(\"fraud_detection.csv\")\n",
    "\n",
    "# Create features and labels\n",
    "features = df.drop(\"isFraud\", axis=1)\n",
    "labels = df[\"isFraud\"]\n",
    "\n",
    "# Enumerate the columns in the features DataFrame\n",
    "for col in features.columns:\n",
    "\n",
    "    # Check if the column is numeric\n",
    "    if not pd.api.types.is_numeric_dtype(features[col]):\n",
    "\n",
    "        # Create a label encoder for the column\n",
    "        encoder = LabelEncoder()\n",
    "\n",
    "        # Fit the encoder to the column data\n",
    "        encoder.fit(features[col])\n",
    "\n",
    "        # Transform the column data\n",
    "        features[col] = encoder.transform(features[col])\n",
    "\n",
    "        # Replace the string \"PAYMENT\" with the float value 0\n",
    "        features.loc[features[col] == \"PAYMENT\", col] = 0\n",
    "\n",
    "# Split the data into a training set and a test set\n",
    "X_train, X_test, y_train, y_test = train_test_split(features, labels, test_size=0.25)\n",
    "\n",
    "# Use SMOTE to oversample the fraud transactions in the training set\n",
    "smote = SMOTE()\n",
    "X_train, y_train = smote.fit_resample(X_train, y_train)\n",
    "\n",
    "# Create a decision trees model\n",
    "model = DecisionTreeClassifier()\n",
    "\n",
    "# Train the model\n",
    "model.fit(X_train, y_train)\n",
    "\n",
    "# Evaluate the model on the test set\n",
    "y_pred = model.predict(X_test)\n",
    "\n",
    "# Calculate the accuracy, precision, recall, and F1 score of the model\n",
    "accuracy = accuracy_score(y_test, y_pred)\n",
    "precision = precision_score(y_test, y_pred)\n",
    "recall = recall_score(y_test, y_pred)\n",
    "f1 = f1_score(y_test, y_pred)\n",
    "\n",
    "# Print the evaluation metrics\n",
    "print(\"Accuracy:\", accuracy)\n",
    "print(\"Precision:\", precision)\n",
    "print(\"Recall:\", recall)\n",
    "print(\"F1 score:\", f1)\n",
    "\n",
    "# Print the classification report for the model\n",
    "print(classification_report(y_test, y_pred, target_names=[\"Not Fraud\", \"Fraud\"]))\n"
   ]
  },
  {
   "cell_type": "code",
   "execution_count": null,
   "id": "07b1428d",
   "metadata": {},
   "outputs": [],
   "source": []
  }
 ],
 "metadata": {
  "kernelspec": {
   "display_name": "Python 3 (ipykernel)",
   "language": "python",
   "name": "python3"
  },
  "language_info": {
   "codemirror_mode": {
    "name": "ipython",
    "version": 3
   },
   "file_extension": ".py",
   "mimetype": "text/x-python",
   "name": "python",
   "nbconvert_exporter": "python",
   "pygments_lexer": "ipython3",
   "version": "3.11.3"
  }
 },
 "nbformat": 4,
 "nbformat_minor": 5
}
